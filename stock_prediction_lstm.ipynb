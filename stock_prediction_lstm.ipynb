{
  "nbformat": 4,
  "nbformat_minor": 0,
  "metadata": {
    "colab": {
      "provenance": [],
      "toc_visible": true
    },
    "kernelspec": {
      "name": "python3",
      "display_name": "Python 3"
    },
    "language_info": {
      "name": "python"
    }
  },
  "cells": [
    {
      "cell_type": "markdown",
      "source": [
        "**Stock price prediction using LSTM**"
      ],
      "metadata": {
        "id": "vCoiPiUb8iNy"
      }
    },
    {
      "cell_type": "code",
      "execution_count": null,
      "metadata": {
        "id": "ObAYQwqxw251"
      },
      "outputs": [],
      "source": [
        "# Importing required libraries\n",
        "import pandas as pd\n",
        "import numpy as np\n",
        "import matplotlib.pyplot as plt\n"
      ]
    },
    {
      "cell_type": "code",
      "source": [
        "google_stock_data = pd.read_csv('GOOG.csv')\n",
        "google_stock_data.head()"
      ],
      "metadata": {
        "colab": {
          "base_uri": "https://localhost:8080/",
          "height": 313
        },
        "id": "14-MfFRU3K2a",
        "outputId": "8a9ee1f8-78e1-49b8-99b7-3f8c4a5abb04"
      },
      "execution_count": null,
      "outputs": [
        {
          "output_type": "execute_result",
          "data": {
            "text/plain": [
              "  symbol                       date   close    high       low    open  \\\n",
              "0   GOOG  2016-06-14 00:00:00+00:00  718.27  722.47  713.1200  716.48   \n",
              "1   GOOG  2016-06-15 00:00:00+00:00  718.92  722.98  717.3100  719.00   \n",
              "2   GOOG  2016-06-16 00:00:00+00:00  710.36  716.65  703.2600  714.91   \n",
              "3   GOOG  2016-06-17 00:00:00+00:00  691.72  708.82  688.4515  708.65   \n",
              "4   GOOG  2016-06-20 00:00:00+00:00  693.71  702.48  693.4100  698.77   \n",
              "\n",
              "    volume  adjClose  adjHigh    adjLow  adjOpen  adjVolume  divCash  \\\n",
              "0  1306065    718.27   722.47  713.1200   716.48    1306065        0   \n",
              "1  1214517    718.92   722.98  717.3100   719.00    1214517        0   \n",
              "2  1982471    710.36   716.65  703.2600   714.91    1982471        0   \n",
              "3  3402357    691.72   708.82  688.4515   708.65    3402357        0   \n",
              "4  2082538    693.71   702.48  693.4100   698.77    2082538        0   \n",
              "\n",
              "   splitFactor  \n",
              "0            1  \n",
              "1            1  \n",
              "2            1  \n",
              "3            1  \n",
              "4            1  "
            ],
            "text/html": [
              "\n",
              "  <div id=\"df-72a4de43-aac8-4117-9d2e-414d799f8f83\" class=\"colab-df-container\">\n",
              "    <div>\n",
              "<style scoped>\n",
              "    .dataframe tbody tr th:only-of-type {\n",
              "        vertical-align: middle;\n",
              "    }\n",
              "\n",
              "    .dataframe tbody tr th {\n",
              "        vertical-align: top;\n",
              "    }\n",
              "\n",
              "    .dataframe thead th {\n",
              "        text-align: right;\n",
              "    }\n",
              "</style>\n",
              "<table border=\"1\" class=\"dataframe\">\n",
              "  <thead>\n",
              "    <tr style=\"text-align: right;\">\n",
              "      <th></th>\n",
              "      <th>symbol</th>\n",
              "      <th>date</th>\n",
              "      <th>close</th>\n",
              "      <th>high</th>\n",
              "      <th>low</th>\n",
              "      <th>open</th>\n",
              "      <th>volume</th>\n",
              "      <th>adjClose</th>\n",
              "      <th>adjHigh</th>\n",
              "      <th>adjLow</th>\n",
              "      <th>adjOpen</th>\n",
              "      <th>adjVolume</th>\n",
              "      <th>divCash</th>\n",
              "      <th>splitFactor</th>\n",
              "    </tr>\n",
              "  </thead>\n",
              "  <tbody>\n",
              "    <tr>\n",
              "      <th>0</th>\n",
              "      <td>GOOG</td>\n",
              "      <td>2016-06-14 00:00:00+00:00</td>\n",
              "      <td>718.27</td>\n",
              "      <td>722.47</td>\n",
              "      <td>713.1200</td>\n",
              "      <td>716.48</td>\n",
              "      <td>1306065</td>\n",
              "      <td>718.27</td>\n",
              "      <td>722.47</td>\n",
              "      <td>713.1200</td>\n",
              "      <td>716.48</td>\n",
              "      <td>1306065</td>\n",
              "      <td>0</td>\n",
              "      <td>1</td>\n",
              "    </tr>\n",
              "    <tr>\n",
              "      <th>1</th>\n",
              "      <td>GOOG</td>\n",
              "      <td>2016-06-15 00:00:00+00:00</td>\n",
              "      <td>718.92</td>\n",
              "      <td>722.98</td>\n",
              "      <td>717.3100</td>\n",
              "      <td>719.00</td>\n",
              "      <td>1214517</td>\n",
              "      <td>718.92</td>\n",
              "      <td>722.98</td>\n",
              "      <td>717.3100</td>\n",
              "      <td>719.00</td>\n",
              "      <td>1214517</td>\n",
              "      <td>0</td>\n",
              "      <td>1</td>\n",
              "    </tr>\n",
              "    <tr>\n",
              "      <th>2</th>\n",
              "      <td>GOOG</td>\n",
              "      <td>2016-06-16 00:00:00+00:00</td>\n",
              "      <td>710.36</td>\n",
              "      <td>716.65</td>\n",
              "      <td>703.2600</td>\n",
              "      <td>714.91</td>\n",
              "      <td>1982471</td>\n",
              "      <td>710.36</td>\n",
              "      <td>716.65</td>\n",
              "      <td>703.2600</td>\n",
              "      <td>714.91</td>\n",
              "      <td>1982471</td>\n",
              "      <td>0</td>\n",
              "      <td>1</td>\n",
              "    </tr>\n",
              "    <tr>\n",
              "      <th>3</th>\n",
              "      <td>GOOG</td>\n",
              "      <td>2016-06-17 00:00:00+00:00</td>\n",
              "      <td>691.72</td>\n",
              "      <td>708.82</td>\n",
              "      <td>688.4515</td>\n",
              "      <td>708.65</td>\n",
              "      <td>3402357</td>\n",
              "      <td>691.72</td>\n",
              "      <td>708.82</td>\n",
              "      <td>688.4515</td>\n",
              "      <td>708.65</td>\n",
              "      <td>3402357</td>\n",
              "      <td>0</td>\n",
              "      <td>1</td>\n",
              "    </tr>\n",
              "    <tr>\n",
              "      <th>4</th>\n",
              "      <td>GOOG</td>\n",
              "      <td>2016-06-20 00:00:00+00:00</td>\n",
              "      <td>693.71</td>\n",
              "      <td>702.48</td>\n",
              "      <td>693.4100</td>\n",
              "      <td>698.77</td>\n",
              "      <td>2082538</td>\n",
              "      <td>693.71</td>\n",
              "      <td>702.48</td>\n",
              "      <td>693.4100</td>\n",
              "      <td>698.77</td>\n",
              "      <td>2082538</td>\n",
              "      <td>0</td>\n",
              "      <td>1</td>\n",
              "    </tr>\n",
              "  </tbody>\n",
              "</table>\n",
              "</div>\n",
              "    <div class=\"colab-df-buttons\">\n",
              "\n",
              "  <div class=\"colab-df-container\">\n",
              "    <button class=\"colab-df-convert\" onclick=\"convertToInteractive('df-72a4de43-aac8-4117-9d2e-414d799f8f83')\"\n",
              "            title=\"Convert this dataframe to an interactive table.\"\n",
              "            style=\"display:none;\">\n",
              "\n",
              "  <svg xmlns=\"http://www.w3.org/2000/svg\" height=\"24px\" viewBox=\"0 -960 960 960\">\n",
              "    <path d=\"M120-120v-720h720v720H120Zm60-500h600v-160H180v160Zm220 220h160v-160H400v160Zm0 220h160v-160H400v160ZM180-400h160v-160H180v160Zm440 0h160v-160H620v160ZM180-180h160v-160H180v160Zm440 0h160v-160H620v160Z\"/>\n",
              "  </svg>\n",
              "    </button>\n",
              "\n",
              "  <style>\n",
              "    .colab-df-container {\n",
              "      display:flex;\n",
              "      gap: 12px;\n",
              "    }\n",
              "\n",
              "    .colab-df-convert {\n",
              "      background-color: #E8F0FE;\n",
              "      border: none;\n",
              "      border-radius: 50%;\n",
              "      cursor: pointer;\n",
              "      display: none;\n",
              "      fill: #1967D2;\n",
              "      height: 32px;\n",
              "      padding: 0 0 0 0;\n",
              "      width: 32px;\n",
              "    }\n",
              "\n",
              "    .colab-df-convert:hover {\n",
              "      background-color: #E2EBFA;\n",
              "      box-shadow: 0px 1px 2px rgba(60, 64, 67, 0.3), 0px 1px 3px 1px rgba(60, 64, 67, 0.15);\n",
              "      fill: #174EA6;\n",
              "    }\n",
              "\n",
              "    .colab-df-buttons div {\n",
              "      margin-bottom: 4px;\n",
              "    }\n",
              "\n",
              "    [theme=dark] .colab-df-convert {\n",
              "      background-color: #3B4455;\n",
              "      fill: #D2E3FC;\n",
              "    }\n",
              "\n",
              "    [theme=dark] .colab-df-convert:hover {\n",
              "      background-color: #434B5C;\n",
              "      box-shadow: 0px 1px 3px 1px rgba(0, 0, 0, 0.15);\n",
              "      filter: drop-shadow(0px 1px 2px rgba(0, 0, 0, 0.3));\n",
              "      fill: #FFFFFF;\n",
              "    }\n",
              "  </style>\n",
              "\n",
              "    <script>\n",
              "      const buttonEl =\n",
              "        document.querySelector('#df-72a4de43-aac8-4117-9d2e-414d799f8f83 button.colab-df-convert');\n",
              "      buttonEl.style.display =\n",
              "        google.colab.kernel.accessAllowed ? 'block' : 'none';\n",
              "\n",
              "      async function convertToInteractive(key) {\n",
              "        const element = document.querySelector('#df-72a4de43-aac8-4117-9d2e-414d799f8f83');\n",
              "        const dataTable =\n",
              "          await google.colab.kernel.invokeFunction('convertToInteractive',\n",
              "                                                    [key], {});\n",
              "        if (!dataTable) return;\n",
              "\n",
              "        const docLinkHtml = 'Like what you see? Visit the ' +\n",
              "          '<a target=\"_blank\" href=https://colab.research.google.com/notebooks/data_table.ipynb>data table notebook</a>'\n",
              "          + ' to learn more about interactive tables.';\n",
              "        element.innerHTML = '';\n",
              "        dataTable['output_type'] = 'display_data';\n",
              "        await google.colab.output.renderOutput(dataTable, element);\n",
              "        const docLink = document.createElement('div');\n",
              "        docLink.innerHTML = docLinkHtml;\n",
              "        element.appendChild(docLink);\n",
              "      }\n",
              "    </script>\n",
              "  </div>\n",
              "\n",
              "\n",
              "<div id=\"df-4f1e2192-6998-42d7-8db8-47da13c61ac5\">\n",
              "  <button class=\"colab-df-quickchart\" onclick=\"quickchart('df-4f1e2192-6998-42d7-8db8-47da13c61ac5')\"\n",
              "            title=\"Suggest charts.\"\n",
              "            style=\"display:none;\">\n",
              "\n",
              "<svg xmlns=\"http://www.w3.org/2000/svg\" height=\"24px\"viewBox=\"0 0 24 24\"\n",
              "     width=\"24px\">\n",
              "    <g>\n",
              "        <path d=\"M19 3H5c-1.1 0-2 .9-2 2v14c0 1.1.9 2 2 2h14c1.1 0 2-.9 2-2V5c0-1.1-.9-2-2-2zM9 17H7v-7h2v7zm4 0h-2V7h2v10zm4 0h-2v-4h2v4z\"/>\n",
              "    </g>\n",
              "</svg>\n",
              "  </button>\n",
              "\n",
              "<style>\n",
              "  .colab-df-quickchart {\n",
              "    background-color: #E8F0FE;\n",
              "    border: none;\n",
              "    border-radius: 50%;\n",
              "    cursor: pointer;\n",
              "    display: none;\n",
              "    fill: #1967D2;\n",
              "    height: 32px;\n",
              "    padding: 0 0 0 0;\n",
              "    width: 32px;\n",
              "  }\n",
              "\n",
              "  .colab-df-quickchart:hover {\n",
              "    background-color: #E2EBFA;\n",
              "    box-shadow: 0px 1px 2px rgba(60, 64, 67, 0.3), 0px 1px 3px 1px rgba(60, 64, 67, 0.15);\n",
              "    fill: #174EA6;\n",
              "  }\n",
              "\n",
              "  [theme=dark] .colab-df-quickchart {\n",
              "    background-color: #3B4455;\n",
              "    fill: #D2E3FC;\n",
              "  }\n",
              "\n",
              "  [theme=dark] .colab-df-quickchart:hover {\n",
              "    background-color: #434B5C;\n",
              "    box-shadow: 0px 1px 3px 1px rgba(0, 0, 0, 0.15);\n",
              "    filter: drop-shadow(0px 1px 2px rgba(0, 0, 0, 0.3));\n",
              "    fill: #FFFFFF;\n",
              "  }\n",
              "</style>\n",
              "\n",
              "  <script>\n",
              "    async function quickchart(key) {\n",
              "      const charts = await google.colab.kernel.invokeFunction(\n",
              "          'suggestCharts', [key], {});\n",
              "    }\n",
              "    (() => {\n",
              "      let quickchartButtonEl =\n",
              "        document.querySelector('#df-4f1e2192-6998-42d7-8db8-47da13c61ac5 button');\n",
              "      quickchartButtonEl.style.display =\n",
              "        google.colab.kernel.accessAllowed ? 'block' : 'none';\n",
              "    })();\n",
              "  </script>\n",
              "</div>\n",
              "    </div>\n",
              "  </div>\n"
            ]
          },
          "metadata": {},
          "execution_count": 6
        }
      ]
    },
    {
      "cell_type": "code",
      "source": [
        "google_stock_data.info()"
      ],
      "metadata": {
        "colab": {
          "base_uri": "https://localhost:8080/"
        },
        "id": "PYBZ-W2G30gz",
        "outputId": "93ee5394-7965-42a0-a97b-c3dafb7a3d54"
      },
      "execution_count": null,
      "outputs": [
        {
          "output_type": "stream",
          "name": "stdout",
          "text": [
            "<class 'pandas.core.frame.DataFrame'>\n",
            "RangeIndex: 1258 entries, 0 to 1257\n",
            "Data columns (total 14 columns):\n",
            " #   Column       Non-Null Count  Dtype  \n",
            "---  ------       --------------  -----  \n",
            " 0   symbol       1258 non-null   object \n",
            " 1   date         1258 non-null   object \n",
            " 2   close        1258 non-null   float64\n",
            " 3   high         1258 non-null   float64\n",
            " 4   low          1258 non-null   float64\n",
            " 5   open         1258 non-null   float64\n",
            " 6   volume       1258 non-null   int64  \n",
            " 7   adjClose     1258 non-null   float64\n",
            " 8   adjHigh      1258 non-null   float64\n",
            " 9   adjLow       1258 non-null   float64\n",
            " 10  adjOpen      1258 non-null   float64\n",
            " 11  adjVolume    1258 non-null   int64  \n",
            " 12  divCash      1258 non-null   int64  \n",
            " 13  splitFactor  1258 non-null   int64  \n",
            "dtypes: float64(8), int64(4), object(2)\n",
            "memory usage: 137.7+ KB\n"
          ]
        }
      ]
    },
    {
      "cell_type": "code",
      "source": [
        "google_stock_data = google_stock_data[['date','open','close']] # Extracting required columns\n",
        "google_stock_data['date'] = pd.to_datetime(google_stock_data['date'].apply(lambda x: x.split()[0])) # Selecting only date\n",
        "google_stock_data.set_index('date',drop=True,inplace=True) # Setting date column as index\n",
        "google_stock_data.head()"
      ],
      "metadata": {
        "colab": {
          "base_uri": "https://localhost:8080/",
          "height": 362
        },
        "id": "R-15vHkz4AR6",
        "outputId": "fae67d5f-e128-4d6e-978f-51885fa6b426"
      },
      "execution_count": null,
      "outputs": [
        {
          "output_type": "stream",
          "name": "stderr",
          "text": [
            "<ipython-input-9-3d1443e590ba>:2: SettingWithCopyWarning: \n",
            "A value is trying to be set on a copy of a slice from a DataFrame.\n",
            "Try using .loc[row_indexer,col_indexer] = value instead\n",
            "\n",
            "See the caveats in the documentation: https://pandas.pydata.org/pandas-docs/stable/user_guide/indexing.html#returning-a-view-versus-a-copy\n",
            "  google_stock_data['date'] = pd.to_datetime(google_stock_data['date'].apply(lambda x: x.split()[0])) # Selecting only date\n"
          ]
        },
        {
          "output_type": "execute_result",
          "data": {
            "text/plain": [
              "              open   close\n",
              "date                      \n",
              "2016-06-14  716.48  718.27\n",
              "2016-06-15  719.00  718.92\n",
              "2016-06-16  714.91  710.36\n",
              "2016-06-17  708.65  691.72\n",
              "2016-06-20  698.77  693.71"
            ],
            "text/html": [
              "\n",
              "  <div id=\"df-cebfa2eb-d823-4c83-b05f-08ac69fb5e8e\" class=\"colab-df-container\">\n",
              "    <div>\n",
              "<style scoped>\n",
              "    .dataframe tbody tr th:only-of-type {\n",
              "        vertical-align: middle;\n",
              "    }\n",
              "\n",
              "    .dataframe tbody tr th {\n",
              "        vertical-align: top;\n",
              "    }\n",
              "\n",
              "    .dataframe thead th {\n",
              "        text-align: right;\n",
              "    }\n",
              "</style>\n",
              "<table border=\"1\" class=\"dataframe\">\n",
              "  <thead>\n",
              "    <tr style=\"text-align: right;\">\n",
              "      <th></th>\n",
              "      <th>open</th>\n",
              "      <th>close</th>\n",
              "    </tr>\n",
              "    <tr>\n",
              "      <th>date</th>\n",
              "      <th></th>\n",
              "      <th></th>\n",
              "    </tr>\n",
              "  </thead>\n",
              "  <tbody>\n",
              "    <tr>\n",
              "      <th>2016-06-14</th>\n",
              "      <td>716.48</td>\n",
              "      <td>718.27</td>\n",
              "    </tr>\n",
              "    <tr>\n",
              "      <th>2016-06-15</th>\n",
              "      <td>719.00</td>\n",
              "      <td>718.92</td>\n",
              "    </tr>\n",
              "    <tr>\n",
              "      <th>2016-06-16</th>\n",
              "      <td>714.91</td>\n",
              "      <td>710.36</td>\n",
              "    </tr>\n",
              "    <tr>\n",
              "      <th>2016-06-17</th>\n",
              "      <td>708.65</td>\n",
              "      <td>691.72</td>\n",
              "    </tr>\n",
              "    <tr>\n",
              "      <th>2016-06-20</th>\n",
              "      <td>698.77</td>\n",
              "      <td>693.71</td>\n",
              "    </tr>\n",
              "  </tbody>\n",
              "</table>\n",
              "</div>\n",
              "    <div class=\"colab-df-buttons\">\n",
              "\n",
              "  <div class=\"colab-df-container\">\n",
              "    <button class=\"colab-df-convert\" onclick=\"convertToInteractive('df-cebfa2eb-d823-4c83-b05f-08ac69fb5e8e')\"\n",
              "            title=\"Convert this dataframe to an interactive table.\"\n",
              "            style=\"display:none;\">\n",
              "\n",
              "  <svg xmlns=\"http://www.w3.org/2000/svg\" height=\"24px\" viewBox=\"0 -960 960 960\">\n",
              "    <path d=\"M120-120v-720h720v720H120Zm60-500h600v-160H180v160Zm220 220h160v-160H400v160Zm0 220h160v-160H400v160ZM180-400h160v-160H180v160Zm440 0h160v-160H620v160ZM180-180h160v-160H180v160Zm440 0h160v-160H620v160Z\"/>\n",
              "  </svg>\n",
              "    </button>\n",
              "\n",
              "  <style>\n",
              "    .colab-df-container {\n",
              "      display:flex;\n",
              "      gap: 12px;\n",
              "    }\n",
              "\n",
              "    .colab-df-convert {\n",
              "      background-color: #E8F0FE;\n",
              "      border: none;\n",
              "      border-radius: 50%;\n",
              "      cursor: pointer;\n",
              "      display: none;\n",
              "      fill: #1967D2;\n",
              "      height: 32px;\n",
              "      padding: 0 0 0 0;\n",
              "      width: 32px;\n",
              "    }\n",
              "\n",
              "    .colab-df-convert:hover {\n",
              "      background-color: #E2EBFA;\n",
              "      box-shadow: 0px 1px 2px rgba(60, 64, 67, 0.3), 0px 1px 3px 1px rgba(60, 64, 67, 0.15);\n",
              "      fill: #174EA6;\n",
              "    }\n",
              "\n",
              "    .colab-df-buttons div {\n",
              "      margin-bottom: 4px;\n",
              "    }\n",
              "\n",
              "    [theme=dark] .colab-df-convert {\n",
              "      background-color: #3B4455;\n",
              "      fill: #D2E3FC;\n",
              "    }\n",
              "\n",
              "    [theme=dark] .colab-df-convert:hover {\n",
              "      background-color: #434B5C;\n",
              "      box-shadow: 0px 1px 3px 1px rgba(0, 0, 0, 0.15);\n",
              "      filter: drop-shadow(0px 1px 2px rgba(0, 0, 0, 0.3));\n",
              "      fill: #FFFFFF;\n",
              "    }\n",
              "  </style>\n",
              "\n",
              "    <script>\n",
              "      const buttonEl =\n",
              "        document.querySelector('#df-cebfa2eb-d823-4c83-b05f-08ac69fb5e8e button.colab-df-convert');\n",
              "      buttonEl.style.display =\n",
              "        google.colab.kernel.accessAllowed ? 'block' : 'none';\n",
              "\n",
              "      async function convertToInteractive(key) {\n",
              "        const element = document.querySelector('#df-cebfa2eb-d823-4c83-b05f-08ac69fb5e8e');\n",
              "        const dataTable =\n",
              "          await google.colab.kernel.invokeFunction('convertToInteractive',\n",
              "                                                    [key], {});\n",
              "        if (!dataTable) return;\n",
              "\n",
              "        const docLinkHtml = 'Like what you see? Visit the ' +\n",
              "          '<a target=\"_blank\" href=https://colab.research.google.com/notebooks/data_table.ipynb>data table notebook</a>'\n",
              "          + ' to learn more about interactive tables.';\n",
              "        element.innerHTML = '';\n",
              "        dataTable['output_type'] = 'display_data';\n",
              "        await google.colab.output.renderOutput(dataTable, element);\n",
              "        const docLink = document.createElement('div');\n",
              "        docLink.innerHTML = docLinkHtml;\n",
              "        element.appendChild(docLink);\n",
              "      }\n",
              "    </script>\n",
              "  </div>\n",
              "\n",
              "\n",
              "<div id=\"df-d00d5dca-1cfd-457b-acb5-ffa997bbf471\">\n",
              "  <button class=\"colab-df-quickchart\" onclick=\"quickchart('df-d00d5dca-1cfd-457b-acb5-ffa997bbf471')\"\n",
              "            title=\"Suggest charts.\"\n",
              "            style=\"display:none;\">\n",
              "\n",
              "<svg xmlns=\"http://www.w3.org/2000/svg\" height=\"24px\"viewBox=\"0 0 24 24\"\n",
              "     width=\"24px\">\n",
              "    <g>\n",
              "        <path d=\"M19 3H5c-1.1 0-2 .9-2 2v14c0 1.1.9 2 2 2h14c1.1 0 2-.9 2-2V5c0-1.1-.9-2-2-2zM9 17H7v-7h2v7zm4 0h-2V7h2v10zm4 0h-2v-4h2v4z\"/>\n",
              "    </g>\n",
              "</svg>\n",
              "  </button>\n",
              "\n",
              "<style>\n",
              "  .colab-df-quickchart {\n",
              "    background-color: #E8F0FE;\n",
              "    border: none;\n",
              "    border-radius: 50%;\n",
              "    cursor: pointer;\n",
              "    display: none;\n",
              "    fill: #1967D2;\n",
              "    height: 32px;\n",
              "    padding: 0 0 0 0;\n",
              "    width: 32px;\n",
              "  }\n",
              "\n",
              "  .colab-df-quickchart:hover {\n",
              "    background-color: #E2EBFA;\n",
              "    box-shadow: 0px 1px 2px rgba(60, 64, 67, 0.3), 0px 1px 3px 1px rgba(60, 64, 67, 0.15);\n",
              "    fill: #174EA6;\n",
              "  }\n",
              "\n",
              "  [theme=dark] .colab-df-quickchart {\n",
              "    background-color: #3B4455;\n",
              "    fill: #D2E3FC;\n",
              "  }\n",
              "\n",
              "  [theme=dark] .colab-df-quickchart:hover {\n",
              "    background-color: #434B5C;\n",
              "    box-shadow: 0px 1px 3px 1px rgba(0, 0, 0, 0.15);\n",
              "    filter: drop-shadow(0px 1px 2px rgba(0, 0, 0, 0.3));\n",
              "    fill: #FFFFFF;\n",
              "  }\n",
              "</style>\n",
              "\n",
              "  <script>\n",
              "    async function quickchart(key) {\n",
              "      const charts = await google.colab.kernel.invokeFunction(\n",
              "          'suggestCharts', [key], {});\n",
              "    }\n",
              "    (() => {\n",
              "      let quickchartButtonEl =\n",
              "        document.querySelector('#df-d00d5dca-1cfd-457b-acb5-ffa997bbf471 button');\n",
              "      quickchartButtonEl.style.display =\n",
              "        google.colab.kernel.accessAllowed ? 'block' : 'none';\n",
              "    })();\n",
              "  </script>\n",
              "</div>\n",
              "    </div>\n",
              "  </div>\n"
            ]
          },
          "metadata": {},
          "execution_count": 9
        }
      ]
    },
    {
      "cell_type": "code",
      "source": [
        "from sklearn.preprocessing import MinMaxScaler\n",
        "MMS = MinMaxScaler()\n",
        "google_stock_data[google_stock_data.columns] = MMS.fit_transform(google_stock_data)"
      ],
      "metadata": {
        "id": "ZPiuG7SG4IbB"
      },
      "execution_count": null,
      "outputs": []
    },
    {
      "cell_type": "code",
      "source": [
        "google_stock_data.shape"
      ],
      "metadata": {
        "colab": {
          "base_uri": "https://localhost:8080/"
        },
        "id": "8VoTT7K_4UIq",
        "outputId": "d316acf0-cc08-49e7-862c-7c1d192b66a5"
      },
      "execution_count": null,
      "outputs": [
        {
          "output_type": "execute_result",
          "data": {
            "text/plain": [
              "(1258, 2)"
            ]
          },
          "metadata": {},
          "execution_count": 11
        }
      ]
    },
    {
      "cell_type": "code",
      "source": [
        "training_size = round(len(google_stock_data) * 0.80) # Selecting 80 % for training and 20 % for testing\n",
        "training_size"
      ],
      "metadata": {
        "colab": {
          "base_uri": "https://localhost:8080/"
        },
        "id": "0LVOafhF4Z3B",
        "outputId": "e5e51401-b96b-4865-d893-cc00908bda5c"
      },
      "execution_count": null,
      "outputs": [
        {
          "output_type": "execute_result",
          "data": {
            "text/plain": [
              "1006"
            ]
          },
          "metadata": {},
          "execution_count": 12
        }
      ]
    },
    {
      "cell_type": "code",
      "source": [
        "train_data = google_stock_data[:training_size]\n",
        "test_data  = google_stock_data[training_size:]\n",
        "\n",
        "train_data.shape, test_data.shape"
      ],
      "metadata": {
        "colab": {
          "base_uri": "https://localhost:8080/"
        },
        "id": "U7r7-r8x4f6y",
        "outputId": "b64c927f-0df0-4291-b13e-17b18e1f9881"
      },
      "execution_count": null,
      "outputs": [
        {
          "output_type": "execute_result",
          "data": {
            "text/plain": [
              "((1006, 2), (252, 2))"
            ]
          },
          "metadata": {},
          "execution_count": 13
        }
      ]
    },
    {
      "cell_type": "code",
      "source": [
        "# Function to create sequence of data for training and testing\n",
        "\n",
        "def create_sequence(dataset):\n",
        "  sequences = []\n",
        "  labels = []\n",
        "\n",
        "  start_idx = 0\n",
        "\n",
        "  for stop_idx in range(50,len(dataset)): # Selecting 50 rows at a time\n",
        "    sequences.append(dataset.iloc[start_idx:stop_idx])\n",
        "    labels.append(dataset.iloc[stop_idx])\n",
        "    start_idx += 1\n",
        "  return (np.array(sequences),np.array(labels))"
      ],
      "metadata": {
        "id": "h_W0T3J34mfs"
      },
      "execution_count": null,
      "outputs": []
    },
    {
      "cell_type": "code",
      "source": [
        "train_seq, train_label = create_sequence(train_data)\n",
        "test_seq, test_label = create_sequence(test_data)"
      ],
      "metadata": {
        "id": "2bvHWqxx4quw"
      },
      "execution_count": null,
      "outputs": []
    },
    {
      "cell_type": "code",
      "source": [
        "train_seq.shape, train_label.shape, test_seq.shape, test_label.shape"
      ],
      "metadata": {
        "colab": {
          "base_uri": "https://localhost:8080/"
        },
        "id": "jvvp3QsL47BE",
        "outputId": "b54a51e9-e8ac-4ee4-ea17-a1969b8530cb"
      },
      "execution_count": null,
      "outputs": [
        {
          "output_type": "execute_result",
          "data": {
            "text/plain": [
              "((956, 50, 2), (956, 2), (202, 50, 2), (202, 2))"
            ]
          },
          "metadata": {},
          "execution_count": 17
        }
      ]
    },
    {
      "cell_type": "markdown",
      "source": [
        "**# Creating LSTM model**\n",
        "\n",
        "\n"
      ],
      "metadata": {
        "id": "S7UIcwCz5Fqa"
      }
    },
    {
      "cell_type": "code",
      "source": [
        "from keras.models import Sequential\n",
        "from keras.layers import Dense, Dropout, LSTM, Bidirectional"
      ],
      "metadata": {
        "id": "dncvOBCJ5Q1i"
      },
      "execution_count": null,
      "outputs": []
    },
    {
      "cell_type": "code",
      "source": [
        "model = Sequential()\n",
        "model.add(LSTM(units=50, return_sequences=True, input_shape = (train_seq.shape[1], train_seq.shape[2])))\n",
        "\n",
        "model.add(Dropout(0.1))\n",
        "model.add(LSTM(units=50))\n",
        "\n",
        "model.add(Dense(2))\n",
        "\n",
        "model.compile(loss='mean_squared_error', optimizer='adam', metrics=['mean_absolute_error'])\n",
        "\n",
        "model.summary()"
      ],
      "metadata": {
        "colab": {
          "base_uri": "https://localhost:8080/"
        },
        "id": "HVmCnTVd5dqR",
        "outputId": "c4e9e0f1-6ec9-4a82-a3a4-b59e2b5d6afa"
      },
      "execution_count": null,
      "outputs": [
        {
          "output_type": "stream",
          "name": "stdout",
          "text": [
            "Model: \"sequential\"\n",
            "_________________________________________________________________\n",
            " Layer (type)                Output Shape              Param #   \n",
            "=================================================================\n",
            " lstm (LSTM)                 (None, 50, 50)            10600     \n",
            "                                                                 \n",
            " dropout (Dropout)           (None, 50, 50)            0         \n",
            "                                                                 \n",
            " lstm_1 (LSTM)               (None, 50)                20200     \n",
            "                                                                 \n",
            " dense (Dense)               (None, 2)                 102       \n",
            "                                                                 \n",
            "=================================================================\n",
            "Total params: 30,902\n",
            "Trainable params: 30,902\n",
            "Non-trainable params: 0\n",
            "_________________________________________________________________\n"
          ]
        }
      ]
    },
    {
      "cell_type": "code",
      "source": [
        "model.fit(train_seq, train_label, epochs=80,validation_data=(test_seq, test_label), verbose=1)"
      ],
      "metadata": {
        "colab": {
          "base_uri": "https://localhost:8080/"
        },
        "id": "_LRtNVMw5iRd",
        "outputId": "d322bfc3-ae95-4f70-e4c2-aabbc03a85ec"
      },
      "execution_count": null,
      "outputs": [
        {
          "output_type": "stream",
          "name": "stdout",
          "text": [
            "Epoch 1/80\n",
            "30/30 [==============================] - 2s 61ms/step - loss: 1.5851e-04 - mean_absolute_error: 0.0091 - val_loss: 0.0053 - val_mean_absolute_error: 0.0582\n",
            "Epoch 2/80\n",
            "30/30 [==============================] - 3s 100ms/step - loss: 1.5263e-04 - mean_absolute_error: 0.0091 - val_loss: 0.0038 - val_mean_absolute_error: 0.0456\n",
            "Epoch 3/80\n",
            "30/30 [==============================] - 2s 60ms/step - loss: 1.3340e-04 - mean_absolute_error: 0.0082 - val_loss: 0.0043 - val_mean_absolute_error: 0.0505\n",
            "Epoch 4/80\n",
            "30/30 [==============================] - 2s 59ms/step - loss: 1.3948e-04 - mean_absolute_error: 0.0085 - val_loss: 0.0028 - val_mean_absolute_error: 0.0370\n",
            "Epoch 5/80\n",
            "30/30 [==============================] - 2s 58ms/step - loss: 1.2497e-04 - mean_absolute_error: 0.0081 - val_loss: 0.0021 - val_mean_absolute_error: 0.0308\n",
            "Epoch 6/80\n",
            "30/30 [==============================] - 2s 61ms/step - loss: 1.3339e-04 - mean_absolute_error: 0.0082 - val_loss: 0.0045 - val_mean_absolute_error: 0.0509\n",
            "Epoch 7/80\n",
            "30/30 [==============================] - 2s 59ms/step - loss: 1.2040e-04 - mean_absolute_error: 0.0079 - val_loss: 0.0041 - val_mean_absolute_error: 0.0493\n",
            "Epoch 8/80\n",
            "30/30 [==============================] - 4s 129ms/step - loss: 1.3469e-04 - mean_absolute_error: 0.0082 - val_loss: 0.0044 - val_mean_absolute_error: 0.0514\n",
            "Epoch 9/80\n",
            "30/30 [==============================] - 2s 62ms/step - loss: 1.2088e-04 - mean_absolute_error: 0.0080 - val_loss: 0.0061 - val_mean_absolute_error: 0.0633\n",
            "Epoch 10/80\n",
            "30/30 [==============================] - 2s 59ms/step - loss: 1.3175e-04 - mean_absolute_error: 0.0082 - val_loss: 0.0030 - val_mean_absolute_error: 0.0387\n",
            "Epoch 11/80\n",
            "30/30 [==============================] - 2s 60ms/step - loss: 1.2533e-04 - mean_absolute_error: 0.0080 - val_loss: 0.0030 - val_mean_absolute_error: 0.0406\n",
            "Epoch 12/80\n",
            "30/30 [==============================] - 2s 59ms/step - loss: 1.2391e-04 - mean_absolute_error: 0.0079 - val_loss: 0.0026 - val_mean_absolute_error: 0.0373\n",
            "Epoch 13/80\n",
            "30/30 [==============================] - 2s 59ms/step - loss: 1.4244e-04 - mean_absolute_error: 0.0085 - val_loss: 0.0027 - val_mean_absolute_error: 0.0359\n",
            "Epoch 14/80\n",
            "30/30 [==============================] - 2s 72ms/step - loss: 1.1809e-04 - mean_absolute_error: 0.0076 - val_loss: 0.0027 - val_mean_absolute_error: 0.0378\n",
            "Epoch 15/80\n",
            "30/30 [==============================] - 4s 145ms/step - loss: 1.5475e-04 - mean_absolute_error: 0.0090 - val_loss: 0.0037 - val_mean_absolute_error: 0.0490\n",
            "Epoch 16/80\n",
            "30/30 [==============================] - 2s 59ms/step - loss: 1.3106e-04 - mean_absolute_error: 0.0083 - val_loss: 0.0026 - val_mean_absolute_error: 0.0373\n",
            "Epoch 17/80\n",
            "30/30 [==============================] - 2s 61ms/step - loss: 1.3323e-04 - mean_absolute_error: 0.0082 - val_loss: 0.0022 - val_mean_absolute_error: 0.0321\n",
            "Epoch 18/80\n",
            "30/30 [==============================] - 2s 61ms/step - loss: 1.2317e-04 - mean_absolute_error: 0.0079 - val_loss: 0.0031 - val_mean_absolute_error: 0.0442\n",
            "Epoch 19/80\n",
            "30/30 [==============================] - 3s 105ms/step - loss: 1.1580e-04 - mean_absolute_error: 0.0077 - val_loss: 0.0022 - val_mean_absolute_error: 0.0329\n",
            "Epoch 20/80\n",
            "30/30 [==============================] - 4s 131ms/step - loss: 1.1958e-04 - mean_absolute_error: 0.0078 - val_loss: 0.0023 - val_mean_absolute_error: 0.0333\n",
            "Epoch 21/80\n",
            "30/30 [==============================] - 2s 60ms/step - loss: 1.1994e-04 - mean_absolute_error: 0.0078 - val_loss: 0.0037 - val_mean_absolute_error: 0.0492\n",
            "Epoch 22/80\n",
            "30/30 [==============================] - 2s 61ms/step - loss: 1.2026e-04 - mean_absolute_error: 0.0079 - val_loss: 0.0022 - val_mean_absolute_error: 0.0339\n",
            "Epoch 23/80\n",
            "30/30 [==============================] - 2s 59ms/step - loss: 1.0479e-04 - mean_absolute_error: 0.0072 - val_loss: 0.0027 - val_mean_absolute_error: 0.0381\n",
            "Epoch 24/80\n",
            "30/30 [==============================] - 2s 60ms/step - loss: 1.1614e-04 - mean_absolute_error: 0.0076 - val_loss: 0.0026 - val_mean_absolute_error: 0.0357\n",
            "Epoch 25/80\n",
            "30/30 [==============================] - 3s 98ms/step - loss: 1.1253e-04 - mean_absolute_error: 0.0075 - val_loss: 0.0024 - val_mean_absolute_error: 0.0351\n",
            "Epoch 26/80\n",
            "30/30 [==============================] - 3s 91ms/step - loss: 1.1029e-04 - mean_absolute_error: 0.0074 - val_loss: 0.0034 - val_mean_absolute_error: 0.0438\n",
            "Epoch 27/80\n",
            "30/30 [==============================] - 2s 61ms/step - loss: 1.1241e-04 - mean_absolute_error: 0.0075 - val_loss: 0.0020 - val_mean_absolute_error: 0.0302\n",
            "Epoch 28/80\n",
            "30/30 [==============================] - 3s 86ms/step - loss: 1.1933e-04 - mean_absolute_error: 0.0077 - val_loss: 0.0036 - val_mean_absolute_error: 0.0474\n",
            "Epoch 29/80\n",
            "30/30 [==============================] - 2s 62ms/step - loss: 1.1952e-04 - mean_absolute_error: 0.0079 - val_loss: 0.0041 - val_mean_absolute_error: 0.0525\n",
            "Epoch 30/80\n",
            "30/30 [==============================] - 2s 62ms/step - loss: 1.2066e-04 - mean_absolute_error: 0.0079 - val_loss: 0.0036 - val_mean_absolute_error: 0.0456\n",
            "Epoch 31/80\n",
            "30/30 [==============================] - 2s 73ms/step - loss: 1.0645e-04 - mean_absolute_error: 0.0072 - val_loss: 0.0055 - val_mean_absolute_error: 0.0592\n",
            "Epoch 32/80\n",
            "30/30 [==============================] - 3s 116ms/step - loss: 1.1494e-04 - mean_absolute_error: 0.0077 - val_loss: 0.0046 - val_mean_absolute_error: 0.0520\n",
            "Epoch 33/80\n",
            "30/30 [==============================] - 2s 61ms/step - loss: 1.1007e-04 - mean_absolute_error: 0.0071 - val_loss: 0.0032 - val_mean_absolute_error: 0.0427\n",
            "Epoch 34/80\n",
            "30/30 [==============================] - 2s 62ms/step - loss: 1.1366e-04 - mean_absolute_error: 0.0076 - val_loss: 0.0012 - val_mean_absolute_error: 0.0262\n",
            "Epoch 35/80\n",
            "30/30 [==============================] - 2s 58ms/step - loss: 1.0470e-04 - mean_absolute_error: 0.0072 - val_loss: 0.0027 - val_mean_absolute_error: 0.0388\n",
            "Epoch 36/80\n",
            "30/30 [==============================] - 2s 60ms/step - loss: 1.1865e-04 - mean_absolute_error: 0.0076 - val_loss: 0.0025 - val_mean_absolute_error: 0.0353\n",
            "Epoch 37/80\n",
            "30/30 [==============================] - 2s 66ms/step - loss: 1.1614e-04 - mean_absolute_error: 0.0076 - val_loss: 0.0020 - val_mean_absolute_error: 0.0323\n",
            "Epoch 38/80\n",
            "30/30 [==============================] - 4s 119ms/step - loss: 1.0961e-04 - mean_absolute_error: 0.0074 - val_loss: 0.0035 - val_mean_absolute_error: 0.0440\n",
            "Epoch 39/80\n",
            "30/30 [==============================] - 3s 91ms/step - loss: 1.1124e-04 - mean_absolute_error: 0.0073 - val_loss: 0.0033 - val_mean_absolute_error: 0.0432\n",
            "Epoch 40/80\n",
            "30/30 [==============================] - 3s 86ms/step - loss: 1.0629e-04 - mean_absolute_error: 0.0072 - val_loss: 0.0027 - val_mean_absolute_error: 0.0367\n",
            "Epoch 41/80\n",
            "30/30 [==============================] - 2s 63ms/step - loss: 1.0546e-04 - mean_absolute_error: 0.0071 - val_loss: 0.0028 - val_mean_absolute_error: 0.0392\n",
            "Epoch 42/80\n",
            "30/30 [==============================] - 2s 58ms/step - loss: 1.1441e-04 - mean_absolute_error: 0.0076 - val_loss: 0.0038 - val_mean_absolute_error: 0.0486\n",
            "Epoch 43/80\n",
            "30/30 [==============================] - 3s 97ms/step - loss: 1.1206e-04 - mean_absolute_error: 0.0075 - val_loss: 0.0028 - val_mean_absolute_error: 0.0405\n",
            "Epoch 44/80\n",
            "30/30 [==============================] - 2s 62ms/step - loss: 1.1228e-04 - mean_absolute_error: 0.0074 - val_loss: 0.0023 - val_mean_absolute_error: 0.0338\n",
            "Epoch 45/80\n",
            "30/30 [==============================] - 2s 75ms/step - loss: 1.0802e-04 - mean_absolute_error: 0.0072 - val_loss: 0.0031 - val_mean_absolute_error: 0.0404\n",
            "Epoch 46/80\n",
            "30/30 [==============================] - 4s 124ms/step - loss: 1.2010e-04 - mean_absolute_error: 0.0076 - val_loss: 0.0019 - val_mean_absolute_error: 0.0297\n",
            "Epoch 47/80\n",
            "30/30 [==============================] - 2s 61ms/step - loss: 1.0465e-04 - mean_absolute_error: 0.0071 - val_loss: 0.0018 - val_mean_absolute_error: 0.0302\n",
            "Epoch 48/80\n",
            "30/30 [==============================] - 3s 93ms/step - loss: 1.0176e-04 - mean_absolute_error: 0.0069 - val_loss: 0.0040 - val_mean_absolute_error: 0.0500\n",
            "Epoch 49/80\n",
            "30/30 [==============================] - 2s 68ms/step - loss: 1.0464e-04 - mean_absolute_error: 0.0071 - val_loss: 0.0035 - val_mean_absolute_error: 0.0471\n",
            "Epoch 50/80\n",
            "30/30 [==============================] - 2s 59ms/step - loss: 1.0150e-04 - mean_absolute_error: 0.0069 - val_loss: 0.0015 - val_mean_absolute_error: 0.0266\n",
            "Epoch 51/80\n",
            "30/30 [==============================] - 2s 59ms/step - loss: 1.0168e-04 - mean_absolute_error: 0.0072 - val_loss: 0.0040 - val_mean_absolute_error: 0.0513\n",
            "Epoch 52/80\n",
            "30/30 [==============================] - 2s 62ms/step - loss: 1.0092e-04 - mean_absolute_error: 0.0069 - val_loss: 0.0039 - val_mean_absolute_error: 0.0474\n",
            "Epoch 53/80\n",
            "30/30 [==============================] - 2s 60ms/step - loss: 1.1057e-04 - mean_absolute_error: 0.0073 - val_loss: 0.0014 - val_mean_absolute_error: 0.0263\n",
            "Epoch 54/80\n",
            "30/30 [==============================] - 2s 71ms/step - loss: 1.0435e-04 - mean_absolute_error: 0.0070 - val_loss: 0.0017 - val_mean_absolute_error: 0.0283\n",
            "Epoch 55/80\n",
            "30/30 [==============================] - 4s 129ms/step - loss: 9.6450e-05 - mean_absolute_error: 0.0066 - val_loss: 0.0029 - val_mean_absolute_error: 0.0379\n",
            "Epoch 56/80\n",
            "30/30 [==============================] - 4s 120ms/step - loss: 9.5446e-05 - mean_absolute_error: 0.0068 - val_loss: 0.0037 - val_mean_absolute_error: 0.0470\n",
            "Epoch 57/80\n",
            "30/30 [==============================] - 4s 130ms/step - loss: 1.0097e-04 - mean_absolute_error: 0.0070 - val_loss: 0.0031 - val_mean_absolute_error: 0.0416\n",
            "Epoch 58/80\n",
            "30/30 [==============================] - 3s 112ms/step - loss: 9.9972e-05 - mean_absolute_error: 0.0069 - val_loss: 0.0031 - val_mean_absolute_error: 0.0427\n",
            "Epoch 59/80\n",
            "30/30 [==============================] - 2s 72ms/step - loss: 1.0839e-04 - mean_absolute_error: 0.0073 - val_loss: 0.0025 - val_mean_absolute_error: 0.0350\n",
            "Epoch 60/80\n",
            "30/30 [==============================] - 3s 88ms/step - loss: 1.0607e-04 - mean_absolute_error: 0.0070 - val_loss: 0.0025 - val_mean_absolute_error: 0.0368\n",
            "Epoch 61/80\n",
            "30/30 [==============================] - 3s 113ms/step - loss: 9.8832e-05 - mean_absolute_error: 0.0068 - val_loss: 0.0030 - val_mean_absolute_error: 0.0401\n",
            "Epoch 62/80\n",
            "30/30 [==============================] - 2s 61ms/step - loss: 1.0441e-04 - mean_absolute_error: 0.0070 - val_loss: 0.0025 - val_mean_absolute_error: 0.0366\n",
            "Epoch 63/80\n",
            "30/30 [==============================] - 3s 92ms/step - loss: 9.6578e-05 - mean_absolute_error: 0.0067 - val_loss: 0.0037 - val_mean_absolute_error: 0.0469\n",
            "Epoch 64/80\n",
            "30/30 [==============================] - 2s 69ms/step - loss: 1.0098e-04 - mean_absolute_error: 0.0069 - val_loss: 0.0041 - val_mean_absolute_error: 0.0500\n",
            "Epoch 65/80\n",
            "30/30 [==============================] - 2s 62ms/step - loss: 1.0406e-04 - mean_absolute_error: 0.0071 - val_loss: 0.0027 - val_mean_absolute_error: 0.0357\n",
            "Epoch 66/80\n",
            "30/30 [==============================] - 5s 152ms/step - loss: 9.6007e-05 - mean_absolute_error: 0.0068 - val_loss: 0.0022 - val_mean_absolute_error: 0.0315\n",
            "Epoch 67/80\n",
            "30/30 [==============================] - 5s 151ms/step - loss: 1.0598e-04 - mean_absolute_error: 0.0071 - val_loss: 0.0035 - val_mean_absolute_error: 0.0451\n",
            "Epoch 68/80\n",
            "30/30 [==============================] - 4s 120ms/step - loss: 1.0215e-04 - mean_absolute_error: 0.0071 - val_loss: 0.0033 - val_mean_absolute_error: 0.0456\n",
            "Epoch 69/80\n",
            "30/30 [==============================] - 2s 60ms/step - loss: 9.6880e-05 - mean_absolute_error: 0.0068 - val_loss: 0.0030 - val_mean_absolute_error: 0.0415\n",
            "Epoch 70/80\n",
            "30/30 [==============================] - 3s 98ms/step - loss: 1.0315e-04 - mean_absolute_error: 0.0072 - val_loss: 0.0043 - val_mean_absolute_error: 0.0510\n",
            "Epoch 71/80\n",
            "30/30 [==============================] - 3s 95ms/step - loss: 9.9586e-05 - mean_absolute_error: 0.0070 - val_loss: 0.0025 - val_mean_absolute_error: 0.0353\n",
            "Epoch 72/80\n",
            "30/30 [==============================] - 3s 96ms/step - loss: 9.3059e-05 - mean_absolute_error: 0.0066 - val_loss: 0.0042 - val_mean_absolute_error: 0.0500\n",
            "Epoch 73/80\n",
            "30/30 [==============================] - 2s 62ms/step - loss: 1.0341e-04 - mean_absolute_error: 0.0070 - val_loss: 0.0016 - val_mean_absolute_error: 0.0278\n",
            "Epoch 74/80\n",
            "30/30 [==============================] - 2s 60ms/step - loss: 9.7296e-05 - mean_absolute_error: 0.0068 - val_loss: 0.0027 - val_mean_absolute_error: 0.0385\n",
            "Epoch 75/80\n",
            "30/30 [==============================] - 2s 61ms/step - loss: 1.0909e-04 - mean_absolute_error: 0.0073 - val_loss: 0.0039 - val_mean_absolute_error: 0.0493\n",
            "Epoch 76/80\n",
            "30/30 [==============================] - 3s 89ms/step - loss: 1.0130e-04 - mean_absolute_error: 0.0069 - val_loss: 0.0017 - val_mean_absolute_error: 0.0293\n",
            "Epoch 77/80\n",
            "30/30 [==============================] - 3s 111ms/step - loss: 9.8239e-05 - mean_absolute_error: 0.0067 - val_loss: 0.0022 - val_mean_absolute_error: 0.0346\n",
            "Epoch 78/80\n",
            "30/30 [==============================] - 2s 81ms/step - loss: 1.0491e-04 - mean_absolute_error: 0.0069 - val_loss: 0.0031 - val_mean_absolute_error: 0.0415\n",
            "Epoch 79/80\n",
            "30/30 [==============================] - 2s 61ms/step - loss: 1.0911e-04 - mean_absolute_error: 0.0073 - val_loss: 0.0035 - val_mean_absolute_error: 0.0442\n",
            "Epoch 80/80\n",
            "30/30 [==============================] - 2s 61ms/step - loss: 1.1306e-04 - mean_absolute_error: 0.0077 - val_loss: 0.0034 - val_mean_absolute_error: 0.0445\n"
          ]
        },
        {
          "output_type": "execute_result",
          "data": {
            "text/plain": [
              "<keras.callbacks.History at 0x7d763c6c21a0>"
            ]
          },
          "metadata": {},
          "execution_count": 21
        }
      ]
    },
    {
      "cell_type": "code",
      "source": [
        "test_predicted = model.predict(test_seq)\n",
        "test_predicted[:5]"
      ],
      "metadata": {
        "colab": {
          "base_uri": "https://localhost:8080/"
        },
        "id": "OeMBEJu95xCN",
        "outputId": "930c29bc-c214-4be1-86b6-171afc028f4a"
      },
      "execution_count": null,
      "outputs": [
        {
          "output_type": "stream",
          "name": "stdout",
          "text": [
            "7/7 [==============================] - 1s 16ms/step\n"
          ]
        },
        {
          "output_type": "execute_result",
          "data": {
            "text/plain": [
              "array([[0.47850206, 0.48393127],\n",
              "       [0.4843343 , 0.48984304],\n",
              "       [0.4921443 , 0.4974282 ],\n",
              "       [0.51658285, 0.52080286],\n",
              "       [0.5139958 , 0.51908636]], dtype=float32)"
            ]
          },
          "metadata": {},
          "execution_count": 23
        }
      ]
    },
    {
      "cell_type": "code",
      "source": [
        "test_inverse_predicted = MMS.inverse_transform(test_predicted) # Inversing scaling on predicted data\n",
        "test_inverse_predicted[:5]"
      ],
      "metadata": {
        "colab": {
          "base_uri": "https://localhost:8080/"
        },
        "id": "ap7gV3pK6L0M",
        "outputId": "e98cb61f-7e1a-462f-b92c-a3b4933b586a"
      },
      "execution_count": null,
      "outputs": [
        {
          "output_type": "execute_result",
          "data": {
            "text/plain": [
              "array([[1558.1045, 1565.1492],\n",
              "       [1568.917 , 1576.1057],\n",
              "       [1583.3961, 1590.1636],\n",
              "       [1628.7032, 1633.4849],\n",
              "       [1623.9071, 1630.3036]], dtype=float32)"
            ]
          },
          "metadata": {},
          "execution_count": 25
        }
      ]
    },
    {
      "cell_type": "markdown",
      "source": [
        "**Visualizing predicted and actual data**"
      ],
      "metadata": {
        "id": "Qr9jngyM76fb"
      }
    },
    {
      "cell_type": "code",
      "source": [
        "# Merging actual and predicted data for better visualization\n",
        "\n",
        "gs_slic_data = pd.concat([google_stock_data.iloc[-202:].copy(),pd.DataFrame(test_inverse_predicted,columns=['open_predicted','close_predicted'],index=google_stock_data.iloc[-202:].index)], axis=1)"
      ],
      "metadata": {
        "id": "ovsK-_j-6f9S"
      },
      "execution_count": null,
      "outputs": []
    },
    {
      "cell_type": "code",
      "source": [
        "gs_slic_data[['open','close']] = MMS.inverse_transform(gs_slic_data[['open','close']]) # Inverse scaling"
      ],
      "metadata": {
        "id": "QPytoL4B6nG8"
      },
      "execution_count": null,
      "outputs": []
    },
    {
      "cell_type": "code",
      "source": [
        "gs_slic_data.head()"
      ],
      "metadata": {
        "colab": {
          "base_uri": "https://localhost:8080/",
          "height": 238
        },
        "id": "gIGoH5zY6rkX",
        "outputId": "5c88803c-4de9-401c-8c56-30e9ba280b55"
      },
      "execution_count": null,
      "outputs": [
        {
          "output_type": "execute_result",
          "data": {
            "text/plain": [
              "                open     close  open_predicted  close_predicted\n",
              "date                                                           \n",
              "2020-08-24  0.497853  0.496369     1558.104492      1565.149170\n",
              "2020-08-25  0.491429  0.507171     1568.916992      1576.105713\n",
              "2020-08-26  0.505416  0.530998     1583.396118      1590.163574\n",
              "2020-08-27  0.530055  0.521259     1628.703247      1633.484863\n",
              "2020-08-28  0.519165  0.526698     1623.907104      1630.303589"
            ],
            "text/html": [
              "\n",
              "  <div id=\"df-0e4f2730-7781-44df-9cf7-fc872d5a6d67\" class=\"colab-df-container\">\n",
              "    <div>\n",
              "<style scoped>\n",
              "    .dataframe tbody tr th:only-of-type {\n",
              "        vertical-align: middle;\n",
              "    }\n",
              "\n",
              "    .dataframe tbody tr th {\n",
              "        vertical-align: top;\n",
              "    }\n",
              "\n",
              "    .dataframe thead th {\n",
              "        text-align: right;\n",
              "    }\n",
              "</style>\n",
              "<table border=\"1\" class=\"dataframe\">\n",
              "  <thead>\n",
              "    <tr style=\"text-align: right;\">\n",
              "      <th></th>\n",
              "      <th>open</th>\n",
              "      <th>close</th>\n",
              "      <th>open_predicted</th>\n",
              "      <th>close_predicted</th>\n",
              "    </tr>\n",
              "    <tr>\n",
              "      <th>date</th>\n",
              "      <th></th>\n",
              "      <th></th>\n",
              "      <th></th>\n",
              "      <th></th>\n",
              "    </tr>\n",
              "  </thead>\n",
              "  <tbody>\n",
              "    <tr>\n",
              "      <th>2020-08-24</th>\n",
              "      <td>0.497853</td>\n",
              "      <td>0.496369</td>\n",
              "      <td>1558.104492</td>\n",
              "      <td>1565.149170</td>\n",
              "    </tr>\n",
              "    <tr>\n",
              "      <th>2020-08-25</th>\n",
              "      <td>0.491429</td>\n",
              "      <td>0.507171</td>\n",
              "      <td>1568.916992</td>\n",
              "      <td>1576.105713</td>\n",
              "    </tr>\n",
              "    <tr>\n",
              "      <th>2020-08-26</th>\n",
              "      <td>0.505416</td>\n",
              "      <td>0.530998</td>\n",
              "      <td>1583.396118</td>\n",
              "      <td>1590.163574</td>\n",
              "    </tr>\n",
              "    <tr>\n",
              "      <th>2020-08-27</th>\n",
              "      <td>0.530055</td>\n",
              "      <td>0.521259</td>\n",
              "      <td>1628.703247</td>\n",
              "      <td>1633.484863</td>\n",
              "    </tr>\n",
              "    <tr>\n",
              "      <th>2020-08-28</th>\n",
              "      <td>0.519165</td>\n",
              "      <td>0.526698</td>\n",
              "      <td>1623.907104</td>\n",
              "      <td>1630.303589</td>\n",
              "    </tr>\n",
              "  </tbody>\n",
              "</table>\n",
              "</div>\n",
              "    <div class=\"colab-df-buttons\">\n",
              "\n",
              "  <div class=\"colab-df-container\">\n",
              "    <button class=\"colab-df-convert\" onclick=\"convertToInteractive('df-0e4f2730-7781-44df-9cf7-fc872d5a6d67')\"\n",
              "            title=\"Convert this dataframe to an interactive table.\"\n",
              "            style=\"display:none;\">\n",
              "\n",
              "  <svg xmlns=\"http://www.w3.org/2000/svg\" height=\"24px\" viewBox=\"0 -960 960 960\">\n",
              "    <path d=\"M120-120v-720h720v720H120Zm60-500h600v-160H180v160Zm220 220h160v-160H400v160Zm0 220h160v-160H400v160ZM180-400h160v-160H180v160Zm440 0h160v-160H620v160ZM180-180h160v-160H180v160Zm440 0h160v-160H620v160Z\"/>\n",
              "  </svg>\n",
              "    </button>\n",
              "\n",
              "  <style>\n",
              "    .colab-df-container {\n",
              "      display:flex;\n",
              "      gap: 12px;\n",
              "    }\n",
              "\n",
              "    .colab-df-convert {\n",
              "      background-color: #E8F0FE;\n",
              "      border: none;\n",
              "      border-radius: 50%;\n",
              "      cursor: pointer;\n",
              "      display: none;\n",
              "      fill: #1967D2;\n",
              "      height: 32px;\n",
              "      padding: 0 0 0 0;\n",
              "      width: 32px;\n",
              "    }\n",
              "\n",
              "    .colab-df-convert:hover {\n",
              "      background-color: #E2EBFA;\n",
              "      box-shadow: 0px 1px 2px rgba(60, 64, 67, 0.3), 0px 1px 3px 1px rgba(60, 64, 67, 0.15);\n",
              "      fill: #174EA6;\n",
              "    }\n",
              "\n",
              "    .colab-df-buttons div {\n",
              "      margin-bottom: 4px;\n",
              "    }\n",
              "\n",
              "    [theme=dark] .colab-df-convert {\n",
              "      background-color: #3B4455;\n",
              "      fill: #D2E3FC;\n",
              "    }\n",
              "\n",
              "    [theme=dark] .colab-df-convert:hover {\n",
              "      background-color: #434B5C;\n",
              "      box-shadow: 0px 1px 3px 1px rgba(0, 0, 0, 0.15);\n",
              "      filter: drop-shadow(0px 1px 2px rgba(0, 0, 0, 0.3));\n",
              "      fill: #FFFFFF;\n",
              "    }\n",
              "  </style>\n",
              "\n",
              "    <script>\n",
              "      const buttonEl =\n",
              "        document.querySelector('#df-0e4f2730-7781-44df-9cf7-fc872d5a6d67 button.colab-df-convert');\n",
              "      buttonEl.style.display =\n",
              "        google.colab.kernel.accessAllowed ? 'block' : 'none';\n",
              "\n",
              "      async function convertToInteractive(key) {\n",
              "        const element = document.querySelector('#df-0e4f2730-7781-44df-9cf7-fc872d5a6d67');\n",
              "        const dataTable =\n",
              "          await google.colab.kernel.invokeFunction('convertToInteractive',\n",
              "                                                    [key], {});\n",
              "        if (!dataTable) return;\n",
              "\n",
              "        const docLinkHtml = 'Like what you see? Visit the ' +\n",
              "          '<a target=\"_blank\" href=https://colab.research.google.com/notebooks/data_table.ipynb>data table notebook</a>'\n",
              "          + ' to learn more about interactive tables.';\n",
              "        element.innerHTML = '';\n",
              "        dataTable['output_type'] = 'display_data';\n",
              "        await google.colab.output.renderOutput(dataTable, element);\n",
              "        const docLink = document.createElement('div');\n",
              "        docLink.innerHTML = docLinkHtml;\n",
              "        element.appendChild(docLink);\n",
              "      }\n",
              "    </script>\n",
              "  </div>\n",
              "\n",
              "\n",
              "<div id=\"df-69ef7f5f-1773-4045-8445-344c1f0b25d5\">\n",
              "  <button class=\"colab-df-quickchart\" onclick=\"quickchart('df-69ef7f5f-1773-4045-8445-344c1f0b25d5')\"\n",
              "            title=\"Suggest charts.\"\n",
              "            style=\"display:none;\">\n",
              "\n",
              "<svg xmlns=\"http://www.w3.org/2000/svg\" height=\"24px\"viewBox=\"0 0 24 24\"\n",
              "     width=\"24px\">\n",
              "    <g>\n",
              "        <path d=\"M19 3H5c-1.1 0-2 .9-2 2v14c0 1.1.9 2 2 2h14c1.1 0 2-.9 2-2V5c0-1.1-.9-2-2-2zM9 17H7v-7h2v7zm4 0h-2V7h2v10zm4 0h-2v-4h2v4z\"/>\n",
              "    </g>\n",
              "</svg>\n",
              "  </button>\n",
              "\n",
              "<style>\n",
              "  .colab-df-quickchart {\n",
              "    background-color: #E8F0FE;\n",
              "    border: none;\n",
              "    border-radius: 50%;\n",
              "    cursor: pointer;\n",
              "    display: none;\n",
              "    fill: #1967D2;\n",
              "    height: 32px;\n",
              "    padding: 0 0 0 0;\n",
              "    width: 32px;\n",
              "  }\n",
              "\n",
              "  .colab-df-quickchart:hover {\n",
              "    background-color: #E2EBFA;\n",
              "    box-shadow: 0px 1px 2px rgba(60, 64, 67, 0.3), 0px 1px 3px 1px rgba(60, 64, 67, 0.15);\n",
              "    fill: #174EA6;\n",
              "  }\n",
              "\n",
              "  [theme=dark] .colab-df-quickchart {\n",
              "    background-color: #3B4455;\n",
              "    fill: #D2E3FC;\n",
              "  }\n",
              "\n",
              "  [theme=dark] .colab-df-quickchart:hover {\n",
              "    background-color: #434B5C;\n",
              "    box-shadow: 0px 1px 3px 1px rgba(0, 0, 0, 0.15);\n",
              "    filter: drop-shadow(0px 1px 2px rgba(0, 0, 0, 0.3));\n",
              "    fill: #FFFFFF;\n",
              "  }\n",
              "</style>\n",
              "\n",
              "  <script>\n",
              "    async function quickchart(key) {\n",
              "      const charts = await google.colab.kernel.invokeFunction(\n",
              "          'suggestCharts', [key], {});\n",
              "    }\n",
              "    (() => {\n",
              "      let quickchartButtonEl =\n",
              "        document.querySelector('#df-69ef7f5f-1773-4045-8445-344c1f0b25d5 button');\n",
              "      quickchartButtonEl.style.display =\n",
              "        google.colab.kernel.accessAllowed ? 'block' : 'none';\n",
              "    })();\n",
              "  </script>\n",
              "</div>\n",
              "    </div>\n",
              "  </div>\n"
            ]
          },
          "metadata": {},
          "execution_count": 27
        }
      ]
    },
    {
      "cell_type": "code",
      "source": [
        "gs_slic_data[['open','open_predicted']].plot(figsize=(10,6))\n",
        "plt.xticks(rotation=45)\n",
        "plt.xlabel('Date',size=15)\n",
        "plt.ylabel('Stock Price',size=15)\n",
        "plt.title('Actual vs Predicted for open price',size=15)\n",
        "plt.show()"
      ],
      "metadata": {
        "colab": {
          "base_uri": "https://localhost:8080/",
          "height": 555
        },
        "id": "vypb0aze6uw8",
        "outputId": "cac5807f-41ae-4eb7-aae2-93806bb24a8c"
      },
      "execution_count": null,
      "outputs": [
        {
          "output_type": "display_data",
          "data": {
            "text/plain": [
              "<Figure size 1000x600 with 1 Axes>"
            ],
            "image/png": "[encoded data removed]"
          },
          "metadata": {}
        }
      ]
    },
    {
      "cell_type": "code",
      "source": [
        "gs_slic_data[['close','close_predicted']].plot(figsize=(10,6))\n",
        "plt.xticks(rotation=45)\n",
        "plt.xlabel('Date',size=15)\n",
        "plt.ylabel('Stock Price',size=15)\n",
        "plt.title('Actual vs Predicted for close price',size=15)\n",
        "plt.show()\n"
      ],
      "metadata": {
        "colab": {
          "base_uri": "https://localhost:8080/",
          "height": 555
        },
        "id": "kFWCn5fs60my",
        "outputId": "4e6d8bd1-add0-42d8-b41c-beee3bcc5b87"
      },
      "execution_count": null,
      "outputs": [
        {
          "output_type": "display_data",
          "data": {
            "text/plain": [
              "<Figure size 1000x600 with 1 Axes>"
            ],
            "image/png": "[encoded data removed]"
          },
          "metadata": {}
        }
      ]
    },
    {
      "cell_type": "code",
      "source": [
        "# Creating a dataframe and adding 10 days to existing index\n",
        "\n",
        "gs_slic_data = gs_slic_data.append(pd.DataFrame(columns=gs_slic_data.columns,index=pd.date_range(start=gs_slic_data.index[-1], periods=11, freq='D', closed='right')))"
      ],
      "metadata": {
        "colab": {
          "base_uri": "https://localhost:8080/"
        },
        "id": "E_xvmWXZ64js",
        "outputId": "c825448d-bd0d-440f-ec3e-27233cfdcbb8"
      },
      "execution_count": null,
      "outputs": [
        {
          "output_type": "stream",
          "name": "stderr",
          "text": [
            "<ipython-input-31-3796df6ba6f4>:3: FutureWarning: Argument `closed` is deprecated in favor of `inclusive`.\n",
            "  gs_slic_data = gs_slic_data.append(pd.DataFrame(columns=gs_slic_data.columns,index=pd.date_range(start=gs_slic_data.index[-1], periods=11, freq='D', closed='right')))\n",
            "<ipython-input-31-3796df6ba6f4>:3: FutureWarning: The frame.append method is deprecated and will be removed from pandas in a future version. Use pandas.concat instead.\n",
            "  gs_slic_data = gs_slic_data.append(pd.DataFrame(columns=gs_slic_data.columns,index=pd.date_range(start=gs_slic_data.index[-1], periods=11, freq='D', closed='right')))\n"
          ]
        }
      ]
    },
    {
      "cell_type": "code",
      "source": [
        "gs_slic_data['2021-06-09\t':'2021-06-16']"
      ],
      "metadata": {
        "colab": {
          "base_uri": "https://localhost:8080/",
          "height": 300
        },
        "id": "jVhgLawM68HU",
        "outputId": "02cfadc6-0d82-4769-ca7a-2fa3277d883d"
      },
      "execution_count": null,
      "outputs": [
        {
          "output_type": "execute_result",
          "data": {
            "text/plain": [
              "               open    close  open_predicted  close_predicted\n",
              "2021-06-09  2499.50  2491.40     2355.290527      2221.835449\n",
              "2021-06-10  2494.01  2521.60     2362.166504      2226.047852\n",
              "2021-06-11  2524.92  2513.93     2388.752197      2247.064697\n",
              "2021-06-12      NaN      NaN             NaN              NaN\n",
              "2021-06-13      NaN      NaN             NaN              NaN\n",
              "2021-06-14      NaN      NaN             NaN              NaN\n",
              "2021-06-15      NaN      NaN             NaN              NaN\n",
              "2021-06-16      NaN      NaN             NaN              NaN"
            ],
            "text/html": [
              "\n",
              "  <div id=\"df-7dfbcf7d-7c7d-4a58-a5f4-7cc6c366c0b6\" class=\"colab-df-container\">\n",
              "    <div>\n",
              "<style scoped>\n",
              "    .dataframe tbody tr th:only-of-type {\n",
              "        vertical-align: middle;\n",
              "    }\n",
              "\n",
              "    .dataframe tbody tr th {\n",
              "        vertical-align: top;\n",
              "    }\n",
              "\n",
              "    .dataframe thead th {\n",
              "        text-align: right;\n",
              "    }\n",
              "</style>\n",
              "<table border=\"1\" class=\"dataframe\">\n",
              "  <thead>\n",
              "    <tr style=\"text-align: right;\">\n",
              "      <th></th>\n",
              "      <th>open</th>\n",
              "      <th>close</th>\n",
              "      <th>open_predicted</th>\n",
              "      <th>close_predicted</th>\n",
              "    </tr>\n",
              "  </thead>\n",
              "  <tbody>\n",
              "    <tr>\n",
              "      <th>2021-06-09</th>\n",
              "      <td>2499.50</td>\n",
              "      <td>2491.40</td>\n",
              "      <td>2355.290527</td>\n",
              "      <td>2221.835449</td>\n",
              "    </tr>\n",
              "    <tr>\n",
              "      <th>2021-06-10</th>\n",
              "      <td>2494.01</td>\n",
              "      <td>2521.60</td>\n",
              "      <td>2362.166504</td>\n",
              "      <td>2226.047852</td>\n",
              "    </tr>\n",
              "    <tr>\n",
              "      <th>2021-06-11</th>\n",
              "      <td>2524.92</td>\n",
              "      <td>2513.93</td>\n",
              "      <td>2388.752197</td>\n",
              "      <td>2247.064697</td>\n",
              "    </tr>\n",
              "    <tr>\n",
              "      <th>2021-06-12</th>\n",
              "      <td>NaN</td>\n",
              "      <td>NaN</td>\n",
              "      <td>NaN</td>\n",
              "      <td>NaN</td>\n",
              "    </tr>\n",
              "    <tr>\n",
              "      <th>2021-06-13</th>\n",
              "      <td>NaN</td>\n",
              "      <td>NaN</td>\n",
              "      <td>NaN</td>\n",
              "      <td>NaN</td>\n",
              "    </tr>\n",
              "    <tr>\n",
              "      <th>2021-06-14</th>\n",
              "      <td>NaN</td>\n",
              "      <td>NaN</td>\n",
              "      <td>NaN</td>\n",
              "      <td>NaN</td>\n",
              "    </tr>\n",
              "    <tr>\n",
              "      <th>2021-06-15</th>\n",
              "      <td>NaN</td>\n",
              "      <td>NaN</td>\n",
              "      <td>NaN</td>\n",
              "      <td>NaN</td>\n",
              "    </tr>\n",
              "    <tr>\n",
              "      <th>2021-06-16</th>\n",
              "      <td>NaN</td>\n",
              "      <td>NaN</td>\n",
              "      <td>NaN</td>\n",
              "      <td>NaN</td>\n",
              "    </tr>\n",
              "  </tbody>\n",
              "</table>\n",
              "</div>\n",
              "    <div class=\"colab-df-buttons\">\n",
              "\n",
              "  <div class=\"colab-df-container\">\n",
              "    <button class=\"colab-df-convert\" onclick=\"convertToInteractive('df-7dfbcf7d-7c7d-4a58-a5f4-7cc6c366c0b6')\"\n",
              "            title=\"Convert this dataframe to an interactive table.\"\n",
              "            style=\"display:none;\">\n",
              "\n",
              "  <svg xmlns=\"http://www.w3.org/2000/svg\" height=\"24px\" viewBox=\"0 -960 960 960\">\n",
              "    <path d=\"M120-120v-720h720v720H120Zm60-500h600v-160H180v160Zm220 220h160v-160H400v160Zm0 220h160v-160H400v160ZM180-400h160v-160H180v160Zm440 0h160v-160H620v160ZM180-180h160v-160H180v160Zm440 0h160v-160H620v160Z\"/>\n",
              "  </svg>\n",
              "    </button>\n",
              "\n",
              "  <style>\n",
              "    .colab-df-container {\n",
              "      display:flex;\n",
              "      gap: 12px;\n",
              "    }\n",
              "\n",
              "    .colab-df-convert {\n",
              "      background-color: #E8F0FE;\n",
              "      border: none;\n",
              "      border-radius: 50%;\n",
              "      cursor: pointer;\n",
              "      display: none;\n",
              "      fill: #1967D2;\n",
              "      height: 32px;\n",
              "      padding: 0 0 0 0;\n",
              "      width: 32px;\n",
              "    }\n",
              "\n",
              "    .colab-df-convert:hover {\n",
              "      background-color: #E2EBFA;\n",
              "      box-shadow: 0px 1px 2px rgba(60, 64, 67, 0.3), 0px 1px 3px 1px rgba(60, 64, 67, 0.15);\n",
              "      fill: #174EA6;\n",
              "    }\n",
              "\n",
              "    .colab-df-buttons div {\n",
              "      margin-bottom: 4px;\n",
              "    }\n",
              "\n",
              "    [theme=dark] .colab-df-convert {\n",
              "      background-color: #3B4455;\n",
              "      fill: #D2E3FC;\n",
              "    }\n",
              "\n",
              "    [theme=dark] .colab-df-convert:hover {\n",
              "      background-color: #434B5C;\n",
              "      box-shadow: 0px 1px 3px 1px rgba(0, 0, 0, 0.15);\n",
              "      filter: drop-shadow(0px 1px 2px rgba(0, 0, 0, 0.3));\n",
              "      fill: #FFFFFF;\n",
              "    }\n",
              "  </style>\n",
              "\n",
              "    <script>\n",
              "      const buttonEl =\n",
              "        document.querySelector('#df-7dfbcf7d-7c7d-4a58-a5f4-7cc6c366c0b6 button.colab-df-convert');\n",
              "      buttonEl.style.display =\n",
              "        google.colab.kernel.accessAllowed ? 'block' : 'none';\n",
              "\n",
              "      async function convertToInteractive(key) {\n",
              "        const element = document.querySelector('#df-7dfbcf7d-7c7d-4a58-a5f4-7cc6c366c0b6');\n",
              "        const dataTable =\n",
              "          await google.colab.kernel.invokeFunction('convertToInteractive',\n",
              "                                                    [key], {});\n",
              "        if (!dataTable) return;\n",
              "\n",
              "        const docLinkHtml = 'Like what you see? Visit the ' +\n",
              "          '<a target=\"_blank\" href=https://colab.research.google.com/notebooks/data_table.ipynb>data table notebook</a>'\n",
              "          + ' to learn more about interactive tables.';\n",
              "        element.innerHTML = '';\n",
              "        dataTable['output_type'] = 'display_data';\n",
              "        await google.colab.output.renderOutput(dataTable, element);\n",
              "        const docLink = document.createElement('div');\n",
              "        docLink.innerHTML = docLinkHtml;\n",
              "        element.appendChild(docLink);\n",
              "      }\n",
              "    </script>\n",
              "  </div>\n",
              "\n",
              "\n",
              "<div id=\"df-522db816-8784-4a90-a8b2-d9e1cfd6b23b\">\n",
              "  <button class=\"colab-df-quickchart\" onclick=\"quickchart('df-522db816-8784-4a90-a8b2-d9e1cfd6b23b')\"\n",
              "            title=\"Suggest charts.\"\n",
              "            style=\"display:none;\">\n",
              "\n",
              "<svg xmlns=\"http://www.w3.org/2000/svg\" height=\"24px\"viewBox=\"0 0 24 24\"\n",
              "     width=\"24px\">\n",
              "    <g>\n",
              "        <path d=\"M19 3H5c-1.1 0-2 .9-2 2v14c0 1.1.9 2 2 2h14c1.1 0 2-.9 2-2V5c0-1.1-.9-2-2-2zM9 17H7v-7h2v7zm4 0h-2V7h2v10zm4 0h-2v-4h2v4z\"/>\n",
              "    </g>\n",
              "</svg>\n",
              "  </button>\n",
              "\n",
              "<style>\n",
              "  .colab-df-quickchart {\n",
              "    background-color: #E8F0FE;\n",
              "    border: none;\n",
              "    border-radius: 50%;\n",
              "    cursor: pointer;\n",
              "    display: none;\n",
              "    fill: #1967D2;\n",
              "    height: 32px;\n",
              "    padding: 0 0 0 0;\n",
              "    width: 32px;\n",
              "  }\n",
              "\n",
              "  .colab-df-quickchart:hover {\n",
              "    background-color: #E2EBFA;\n",
              "    box-shadow: 0px 1px 2px rgba(60, 64, 67, 0.3), 0px 1px 3px 1px rgba(60, 64, 67, 0.15);\n",
              "    fill: #174EA6;\n",
              "  }\n",
              "\n",
              "  [theme=dark] .colab-df-quickchart {\n",
              "    background-color: #3B4455;\n",
              "    fill: #D2E3FC;\n",
              "  }\n",
              "\n",
              "  [theme=dark] .colab-df-quickchart:hover {\n",
              "    background-color: #434B5C;\n",
              "    box-shadow: 0px 1px 3px 1px rgba(0, 0, 0, 0.15);\n",
              "    filter: drop-shadow(0px 1px 2px rgba(0, 0, 0, 0.3));\n",
              "    fill: #FFFFFF;\n",
              "  }\n",
              "</style>\n",
              "\n",
              "  <script>\n",
              "    async function quickchart(key) {\n",
              "      const charts = await google.colab.kernel.invokeFunction(\n",
              "          'suggestCharts', [key], {});\n",
              "    }\n",
              "    (() => {\n",
              "      let quickchartButtonEl =\n",
              "        document.querySelector('#df-522db816-8784-4a90-a8b2-d9e1cfd6b23b button');\n",
              "      quickchartButtonEl.style.display =\n",
              "        google.colab.kernel.accessAllowed ? 'block' : 'none';\n",
              "    })();\n",
              "  </script>\n",
              "</div>\n",
              "    </div>\n",
              "  </div>\n"
            ]
          },
          "metadata": {},
          "execution_count": 32
        }
      ]
    },
    {
      "cell_type": "code",
      "source": [
        "upcoming_prediction = pd.DataFrame(columns=['open','close'],index=gs_slic_data.index)\n",
        "upcoming_prediction.index=pd.to_datetime(upcoming_prediction.index)"
      ],
      "metadata": {
        "id": "fb1nO0Z56_ca"
      },
      "execution_count": null,
      "outputs": []
    },
    {
      "cell_type": "code",
      "source": [
        "curr_seq = test_seq[-1:]\n",
        "\n",
        "for i in range(-10,0):\n",
        "  up_pred = model.predict(curr_seq)\n",
        "  upcoming_prediction.iloc[i] = up_pred\n",
        "  curr_seq = np.append(curr_seq[0][1:],up_pred,axis=0)\n",
        "  curr_seq = curr_seq.reshape(test_seq[-1:].shape)"
      ],
      "metadata": {
        "colab": {
          "base_uri": "https://localhost:8080/"
        },
        "id": "F8aaqrKx7C30",
        "outputId": "c3b97b20-f5c7-48c1-f5ba-eb85e3f71b13"
      },
      "execution_count": null,
      "outputs": [
        {
          "output_type": "stream",
          "name": "stdout",
          "text": [
            "1/1 [==============================] - 0s 32ms/step\n",
            "1/1 [==============================] - 0s 29ms/step\n",
            "1/1 [==============================] - 0s 26ms/step\n",
            "1/1 [==============================] - 0s 27ms/step\n",
            "1/1 [==============================] - 0s 26ms/step\n",
            "1/1 [==============================] - 0s 25ms/step\n",
            "1/1 [==============================] - 0s 29ms/step\n",
            "1/1 [==============================] - 0s 31ms/step\n",
            "1/1 [==============================] - 0s 26ms/step\n",
            "1/1 [==============================] - 0s 25ms/step\n"
          ]
        }
      ]
    },
    {
      "cell_type": "code",
      "source": [
        "upcoming_prediction[['open','close']] = MMS.inverse_transform(upcoming_prediction[['open','close']])"
      ],
      "metadata": {
        "id": "MHgy31Vw7Fvi"
      },
      "execution_count": null,
      "outputs": []
    },
    {
      "cell_type": "code",
      "source": [
        "fg,ax=plt.subplots(figsize=(10,5))\n",
        "ax.plot(gs_slic_data.loc['2021-04-01':,'open'],label='Current Open Price')\n",
        "ax.plot(upcoming_prediction.loc['2021-04-01':,'open'],label='Upcoming Open Price')\n",
        "plt.setp(ax.xaxis.get_majorticklabels(), rotation=45)\n",
        "ax.set_xlabel('Date',size=15)\n",
        "ax.set_ylabel('Stock Price',size=15)\n",
        "ax.set_title('Upcoming Open price prediction',size=15)\n",
        "ax.legend()\n",
        "fg.show()"
      ],
      "metadata": {
        "colab": {
          "base_uri": "https://localhost:8080/",
          "height": 548
        },
        "id": "OpXQylIn7JsC",
        "outputId": "80dacc1a-5547-4a23-b959-a6ae78d239b3"
      },
      "execution_count": null,
      "outputs": [
        {
          "output_type": "display_data",
          "data": {
            "text/plain": [
              "<Figure size 1000x500 with 1 Axes>"
            ],
            "image/png": "[encoded data removed]"
          },
          "metadata": {}
        }
      ]
    },
    {
      "cell_type": "code",
      "source": [
        "fg,ax=plt.subplots(figsize=(10,5))\n",
        "ax.plot(gs_slic_data.loc['2021-04-01':,'close'],label='Current close Price')\n",
        "ax.plot(upcoming_prediction.loc['2021-04-01':,'close'],label='Upcoming close Price')\n",
        "plt.setp(ax.xaxis.get_majorticklabels(), rotation=45)\n",
        "ax.set_xlabel('Date',size=15)\n",
        "ax.set_ylabel('Stock Price',size=15)\n",
        "ax.set_title('Upcoming close price prediction',size=15)\n",
        "ax.legend()\n",
        "fg.show()"
      ],
      "metadata": {
        "colab": {
          "base_uri": "https://localhost:8080/",
          "height": 548
        },
        "id": "x47GedSX7PZJ",
        "outputId": "36002b27-613f-4e59-9af2-f72ff033be83"
      },
      "execution_count": null,
      "outputs": [
        {
          "output_type": "display_data",
          "data": {
            "text/plain": [
              "<Figure size 1000x500 with 1 Axes>"
            ],
            "image/png": "[encoded data removed]"
          },
          "metadata": {}
        }
      ]
    }
  ]
}